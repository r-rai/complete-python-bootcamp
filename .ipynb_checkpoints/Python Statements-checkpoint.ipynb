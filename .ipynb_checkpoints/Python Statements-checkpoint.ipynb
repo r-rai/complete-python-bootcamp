{
 "cells": [
  {
   "cell_type": "markdown",
   "metadata": {},
   "source": [
    "# # If Statement"
   ]
  },
  {
   "cell_type": "code",
   "execution_count": 1,
   "metadata": {},
   "outputs": [
    {
     "name": "stdout",
     "output_type": "stream",
     "text": [
      "its true!\n"
     ]
    }
   ],
   "source": [
    "if True:\n",
    "    print(\"its true!\")"
   ]
  },
  {
   "cell_type": "code",
   "execution_count": 5,
   "metadata": {},
   "outputs": [
    {
     "name": "stdout",
     "output_type": "stream",
     "text": [
      "3 is greater than 2\n"
     ]
    }
   ],
   "source": [
    "if (2 > 3):\n",
    "    print(\" 2 is greater than 3\")\n",
    "else:\n",
    "    print(\"3 is greater than 2\")"
   ]
  },
  {
   "cell_type": "code",
   "execution_count": 7,
   "metadata": {},
   "outputs": [
    {
     "name": "stdout",
     "output_type": "stream",
     "text": [
      "Hello I am not programmed to insert your name here!\n"
     ]
    }
   ],
   "source": [
    "name = \"test\"\n",
    "\n",
    "if name == \"Ravi\":\n",
    "    print(\"Hello Ravi!\")\n",
    "elif name == \"Sammy\":\n",
    "    print(\"Hello Sammy\")\n",
    "else:\n",
    "    print(\"Hello I am not programmed to insert your name here!\")"
   ]
  },
  {
   "cell_type": "code",
   "execution_count": null,
   "metadata": {},
   "outputs": [],
   "source": []
  }
 ],
 "metadata": {
  "kernelspec": {
   "display_name": "Python 3",
   "language": "python",
   "name": "python3"
  },
  "language_info": {
   "codemirror_mode": {
    "name": "ipython",
    "version": 3
   },
   "file_extension": ".py",
   "mimetype": "text/x-python",
   "name": "python",
   "nbconvert_exporter": "python",
   "pygments_lexer": "ipython3",
   "version": "3.6.5"
  }
 },
 "nbformat": 4,
 "nbformat_minor": 2
}
