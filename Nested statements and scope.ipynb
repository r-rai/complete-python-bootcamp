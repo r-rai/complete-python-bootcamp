{
 "cells": [
  {
   "cell_type": "code",
   "execution_count": 2,
   "metadata": {},
   "outputs": [],
   "source": [
    "x = 24\n",
    "\n",
    "def printer():\n",
    "    x = 50\n",
    "    return x"
   ]
  },
  {
   "cell_type": "code",
   "execution_count": 3,
   "metadata": {},
   "outputs": [
    {
     "name": "stdout",
     "output_type": "stream",
     "text": [
      "24\n"
     ]
    }
   ],
   "source": [
    "print(x)"
   ]
  },
  {
   "cell_type": "code",
   "execution_count": 4,
   "metadata": {},
   "outputs": [
    {
     "name": "stdout",
     "output_type": "stream",
     "text": [
      "50\n"
     ]
    }
   ],
   "source": [
    "print(printer())"
   ]
  },
  {
   "cell_type": "markdown",
   "metadata": {},
   "source": [
    "# LEGB\n",
    "\n",
    "* L: Local\n",
    "* E: Enclosing function locals\n",
    "* G: Global (module)\n",
    "* B: Built-in (Python)"
   ]
  },
  {
   "cell_type": "code",
   "execution_count": 5,
   "metadata": {},
   "outputs": [
    {
     "data": {
      "text/plain": [
       "<function __main__.<lambda>(num)>"
      ]
     },
     "execution_count": 5,
     "metadata": {},
     "output_type": "execute_result"
    }
   ],
   "source": [
    "#local function\n",
    "lambda num:num**2"
   ]
  },
  {
   "cell_type": "code",
   "execution_count": 10,
   "metadata": {},
   "outputs": [
    {
     "name": "stdout",
     "output_type": "stream",
     "text": [
      "hello this is local string\n"
     ]
    }
   ],
   "source": [
    "#global\n",
    "name = \"This is global string\"\n",
    "\n",
    "def greet():\n",
    "    \n",
    "    #enclosing\n",
    "    name = \"Ravi\"\n",
    "    \n",
    "    def hello():\n",
    "        \n",
    "        #local\n",
    "        name = \"this is local string\"\n",
    "        print(\"hello \"+ name)\n",
    "    hello()\n",
    "\n",
    "    \n",
    "greet()"
   ]
  },
  {
   "cell_type": "code",
   "execution_count": 11,
   "metadata": {},
   "outputs": [
    {
     "name": "stdout",
     "output_type": "stream",
     "text": [
      "hello this is local string\n"
     ]
    }
   ],
   "source": [
    "greet()"
   ]
  },
  {
   "cell_type": "code",
   "execution_count": 12,
   "metadata": {},
   "outputs": [
    {
     "name": "stdout",
     "output_type": "stream",
     "text": [
      "hello Ravi\n"
     ]
    }
   ],
   "source": [
    "#global\n",
    "name = \"This is global string\"\n",
    "\n",
    "def greet():\n",
    "    \n",
    "    #enclosing\n",
    "    name = \"Ravi\"\n",
    "    \n",
    "    def hello():\n",
    "        \n",
    "        #local\n",
    "        #name = \"this is local string\"\n",
    "        print(\"hello \"+ name)\n",
    "    hello()\n",
    "\n",
    "    \n",
    "greet()"
   ]
  },
  {
   "cell_type": "code",
   "execution_count": 13,
   "metadata": {},
   "outputs": [
    {
     "name": "stdout",
     "output_type": "stream",
     "text": [
      "hello This is global string\n"
     ]
    }
   ],
   "source": [
    "#global\n",
    "name = \"This is global string\"\n",
    "\n",
    "def greet():\n",
    "    \n",
    "    #enclosing\n",
    "    #name = \"Ravi\"\n",
    "    \n",
    "    def hello():\n",
    "        \n",
    "        #local\n",
    "        #name = \"this is local string\"\n",
    "        print(\"hello \"+ name)\n",
    "    hello()\n",
    "\n",
    "    \n",
    "greet()"
   ]
  },
  {
   "cell_type": "code",
   "execution_count": 16,
   "metadata": {},
   "outputs": [],
   "source": [
    "x = 50\n",
    "\n",
    "def func(x):\n",
    "    \n",
    "    print(f\"x is {x}\")\n"
   ]
  },
  {
   "cell_type": "code",
   "execution_count": 17,
   "metadata": {},
   "outputs": [
    {
     "name": "stdout",
     "output_type": "stream",
     "text": [
      "x is 50\n"
     ]
    }
   ],
   "source": [
    "func(x)"
   ]
  },
  {
   "cell_type": "code",
   "execution_count": 19,
   "metadata": {},
   "outputs": [],
   "source": [
    "x = 50\n",
    "\n",
    "def func(x):\n",
    "    \n",
    "    print(f\"x is {x}\")\n",
    "    \n",
    "    x = 200\n",
    "    \n",
    "    print(f\"x is now {x}\")\n"
   ]
  },
  {
   "cell_type": "code",
   "execution_count": 20,
   "metadata": {},
   "outputs": [
    {
     "name": "stdout",
     "output_type": "stream",
     "text": [
      "x is 50\n",
      "x is now 200\n"
     ]
    }
   ],
   "source": [
    "func(x)"
   ]
  },
  {
   "cell_type": "code",
   "execution_count": 22,
   "metadata": {},
   "outputs": [],
   "source": [
    "x = 50\n",
    "\n",
    "def func():\n",
    "    global x\n",
    "    print(f\"x is {x}\")\n",
    "    \n",
    "    x = 200\n",
    "    \n",
    "    print(f\"x is now {x}\")\n"
   ]
  },
  {
   "cell_type": "code",
   "execution_count": 26,
   "metadata": {},
   "outputs": [
    {
     "name": "stdout",
     "output_type": "stream",
     "text": [
      "x is 200\n",
      "x is now 200\n"
     ]
    }
   ],
   "source": [
    "func()"
   ]
  },
  {
   "cell_type": "code",
   "execution_count": 27,
   "metadata": {},
   "outputs": [
    {
     "name": "stdout",
     "output_type": "stream",
     "text": [
      "200\n"
     ]
    }
   ],
   "source": [
    "print(x)"
   ]
  },
  {
   "cell_type": "code",
   "execution_count": null,
   "metadata": {},
   "outputs": [],
   "source": []
  }
 ],
 "metadata": {
  "kernelspec": {
   "display_name": "Python 3",
   "language": "python",
   "name": "python3"
  },
  "language_info": {
   "codemirror_mode": {
    "name": "ipython",
    "version": 3
   },
   "file_extension": ".py",
   "mimetype": "text/x-python",
   "name": "python",
   "nbconvert_exporter": "python",
   "pygments_lexer": "ipython3",
   "version": "3.6.5"
  }
 },
 "nbformat": 4,
 "nbformat_minor": 2
}
